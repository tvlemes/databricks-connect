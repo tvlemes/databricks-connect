{
 "cells": [
  {
   "cell_type": "markdown",
   "id": "fa24d18d",
   "metadata": {},
   "source": [
    "Teste 5"
   ]
  },
  {
   "cell_type": "markdown",
   "id": "9ae60ab0",
   "metadata": {},
   "source": []
  }
 ],
 "metadata": {
  "language_info": {
   "name": "python"
  }
 },
 "nbformat": 4,
 "nbformat_minor": 5
}
