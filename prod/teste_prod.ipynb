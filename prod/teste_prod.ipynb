{
 "cells": [
  {
   "cell_type": "markdown",
   "id": "7d989f78",
   "metadata": {},
   "source": [
    "# Prod"
   ]
  },
  {
   "cell_type": "markdown",
   "id": "7fb25d84",
   "metadata": {},
   "source": []
  }
 ],
 "metadata": {
  "language_info": {
   "name": "python"
  }
 },
 "nbformat": 4,
 "nbformat_minor": 5
}
